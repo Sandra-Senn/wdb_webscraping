{
 "cells": [
  {
   "cell_type": "code",
   "execution_count": null,
   "metadata": {},
   "outputs": [],
   "source": [
    "import sys\n",
    "import os\n",
    "sys.path.append(os.path.abspath(os.path.join(os.getcwd(), '..')))\n",
    "from src.scraper import main"
   ]
  },
  {
   "cell_type": "code",
   "execution_count": 14,
   "metadata": {},
   "outputs": [],
   "source": [
    "suchbegriffe = [\n",
    "        \"Rohrer\", \"Meier\", \"Senn\", \n",
    "        \"Schweizer\", \"Walser\", \"Luder\", \n",
    "        \"Torres\", \"Schatzmann\", \"Schmidt\",\n",
    "        \"Müller\", \"Schmid\", \"Winter\"\n",
    "    ]\n",
    "\n",
    "\n",
    "df = main(980, suchbegriffe)"
   ]
  },
  {
   "cell_type": "code",
   "execution_count": 15,
   "metadata": {},
   "outputs": [
    {
     "data": {
      "application/vnd.microsoft.datawrangler.viewer.v0+json": {
       "columns": [
        {
         "name": "index",
         "rawType": "int64",
         "type": "integer"
        },
        {
         "name": "Suchbegriff",
         "rawType": "object",
         "type": "string"
        },
        {
         "name": "Titel",
         "rawType": "object",
         "type": "string"
        },
        {
         "name": "Datum",
         "rawType": "object",
         "type": "string"
        },
        {
         "name": "Autor",
         "rawType": "object",
         "type": "string"
        },
        {
         "name": "Kategorie",
         "rawType": "object",
         "type": "string"
        },
        {
         "name": "Unterkategorie",
         "rawType": "object",
         "type": "string"
        }
       ],
       "conversionMethod": "pd.DataFrame",
       "ref": "6e85a955-a1c7-451b-86f8-d0969be0b2cb",
       "rows": [
        [
         "0",
         "Torres",
         "Wechsel von Torres zu Barcelona fix – Mbabu fehlt Wolfsburg",
         "28.12.2021, 14:05 Uhr",
         "Unbekannt",
         "Sport",
         "Fussball"
        ],
        [
         "1",
         "Torres",
         "Aegerter verpasst das Wunder – Gesamtsieg an Torres",
         "11.10.2020, 14:28 Uhr",
         "Unbekannt",
         "Sport",
         "Motorsport"
        ],
        [
         "2",
         "Torres",
         "Honorar von Dufry-Präsident Torres Carretero gibt zu reden",
         "30.07.2019, 18:55 Uhr",
         "Lorenzo Bonati",
         "News",
         "Wirtschaft"
        ],
        [
         "3",
         "Torres",
         "Torres kündigt Rücktritt an",
         "20.06.2019, 19:00 Uhr",
         "Unbekannt",
         "Sport",
         "Fussball"
        ],
        [
         "4",
         "Torres",
         "Iniesta und Torres sagen «Adios»",
         "20.05.2018, 22:03 Uhr",
         "Unbekannt",
         "Sport",
         "Fussball"
        ],
        [
         "5",
         "Torres",
         "Dank wunderbarem Torres-Volley: Lausanne siegt im Romand-Derby",
         "23.04.2017, 15:53 Uhr",
         "Unbekannt",
         "Sport",
         "Fussball"
        ],
        [
         "6",
         "Torres",
         "Atletico: Leverkusen, Torres und die Stadionfrage im Fokus",
         "15.03.2017, 9:22 Uhr",
         "Unbekannt",
         "Sport",
         "Fussball"
        ],
        [
         "7",
         "Torres",
         "Entwarnung nach Torres' Horror-Aufprall",
         "02.03.2017, 22:46 Uhr",
         "Unbekannt",
         "Sport",
         "Fussball"
        ],
        [
         "8",
         "Torres",
         "Suarez als Erlöser, Torres als tragische Figur",
         "05.04.2016, 20:56 Uhr",
         "Unbekannt",
         "Sport",
         "Fussball"
        ],
        [
         "9",
         "Torres",
         "30'000 Mal Koulibaly und 100 Mal Torres",
         "08.02.2016, 13:20 Uhr",
         "Unbekannt",
         "Sport",
         "Fussball"
        ],
        [
         "10",
         "Torres",
         "Die prominenten Vorgänger des Raffi Torres",
         "06.10.2015, 13:51 Uhr",
         "Unbekannt",
         "Sport",
         "Eishockey"
        ],
        [
         "11",
         "Torres",
         "41 (!) Spielsperren für Sharks-Stürmer Torres",
         "05.10.2015, 21:43 Uhr",
         "Unbekannt",
         "Sport",
         "Eishockey"
        ],
        [
         "12",
         "Torres",
         "Torres: Die nächste PJ Harvey?",
         "13.05.2015, 13:50 Uhr",
         "Danilo Bavier",
         "Radio SRF Virus",
         "Radio SRF Virus"
        ],
        [
         "13",
         "Torres",
         "Fussball-News: Torres zurück zu Atlético",
         "29.12.2014, 8:58 Uhr",
         "Unbekannt",
         "Sport",
         "Fussball"
        ],
        [
         "14",
         "Torres",
         "Fussball-News: Zola Cagliari-Trainer - Torres vor Rückkehr",
         "25.12.2014, 8:10 Uhr",
         "Unbekannt",
         "Sport",
         "Fussball"
        ],
        [
         "15",
         "Torres",
         "Transfer-News: Torres leihweise zu Milan",
         "29.08.2014, 8:22 Uhr",
         "Unbekannt",
         "Sport",
         "Fussball"
        ],
        [
         "16",
         "Torres",
         "Torres und Mata: Die grössten Titelsammler",
         "16.05.2013, 9:41 Uhr",
         "Unbekannt",
         "Sport",
         "Fussball"
        ],
        [
         "17",
         "Torres",
         "Sie will Frauen weltweit für Quantencomputer begeistern",
         "23.02.2024, 10:09 Uhr",
         "Philip Meyer",
         "News",
         "Gesellschaft"
        ],
        [
         "18",
         "Torres",
         "FA Cup: Tottenham und Liverpool out - Chelsea muss nachsitzen",
         "27.01.2013, 16:37 Uhr",
         "Unbekannt",
         "Sport",
         "Fussball"
        ],
        [
         "19",
         "Torres",
         "Hilary Swank mit Ex-Tennisspieler verlobt",
         "23.03.2016, 10:11 Uhr",
         "Unbekannt",
         "Glanz & Gloria",
         "Glanz & Gloria"
        ],
        [
         "20",
         "Torres",
         "Chelsea findet zum Siegen zurück - Real im Glück",
         "08.12.2012, 21:57 Uhr",
         "Unbekannt",
         "Sport",
         "Fussball"
        ],
        [
         "21",
         "Torres",
         "Lüthi verpasst Podest auf dem Sachsenring klar",
         "14.07.2013, 11:10 Uhr",
         "Unbekannt",
         "Sport",
         "Motorsport"
        ],
        [
         "22",
         "Torres",
         "Spanien mit Rekordsieg gegen Tahiti",
         "20.06.2013, 20:50 Uhr",
         "Unbekannt",
         "Sport",
         "Fussball"
        ],
        [
         "23",
         "Torres",
         "Krummenacher mit Podestplatz in Le Mans",
         "13.05.2023, 14:53 Uhr",
         "Unbekannt",
         "Sport",
         "Motorsport"
        ],
        [
         "24",
         "Torres",
         "Die Rose in Kerns bleibt weiter bestehen",
         "28.03.2019, 11:58 Uhr",
         "Unbekannt",
         "Radio SRF Musikwelle",
         "Volksmusik"
        ],
        [
         "25",
         "Torres",
         "Küng und Schir im Madison chancenlos",
         "18.10.2015, 16:46 Uhr",
         "Unbekannt",
         "Sport",
         "Mehr Sport"
        ],
        [
         "26",
         "Torres",
         "Mein Zwischenspiel verunsicherte den Schacher Seppli",
         "11.10.2018, 15:36 Uhr",
         "Unbekannt",
         "Radio SRF Musikwelle",
         "Volksmusik"
        ],
        [
         "27",
         "Torres",
         "Spanien behält auch mit «B-Elf» die weisse Weste",
         "24.06.2024, 23:07 Uhr",
         "Unbekannt",
         "Sport",
         "Fussball"
        ],
        [
         "28",
         "Torres",
         "Chelsea bremst Schalker Höhenflug",
         "22.10.2013, 20:48 Uhr",
         "Unbekannt",
         "Sport",
         "Fussball"
        ],
        [
         "29",
         "Torres",
         "Spektakuläres 3:2: Barcelona ringt Real im Copa-Final nieder",
         "27.04.2025, 24:53 Uhr",
         "Unbekannt",
         "Sport",
         "Fussball"
        ],
        [
         "30",
         "Torres",
         "Nach der Pause heisst es «Feuer frei»: Barcelona siegt beim BVB",
         "11.12.2024, 23:21 Uhr",
         "Unbekannt",
         "Sport",
         "Fussball"
        ],
        [
         "31",
         "Torres",
         "WM-Titel wohl weg: Aegerter auch in Le Mans im Pech",
         "10.10.2020, 15:30 Uhr",
         "Unbekannt",
         "Sport",
         "Motorsport"
        ],
        [
         "32",
         "Torres",
         "Müllers fataler Fehlschuss",
         "03.05.2016, 23:08 Uhr",
         "Unbekannt",
         "Sport",
         "Fussball"
        ],
        [
         "33",
         "Torres",
         "Atletico legt im Cup-Schlager vor",
         "07.01.2015, 22:09 Uhr",
         "Unbekannt",
         "Sport",
         "Fussball"
        ],
        [
         "34",
         "Torres",
         "Klopp auch gegen Arsenal gesperrt",
         "03.10.2013, 9:19 Uhr",
         "Unbekannt",
         "Sport",
         "Fussball"
        ],
        [
         "35",
         "Torres",
         "Chelsea, Benfica und Fenerbahce im Halbfinal",
         "11.04.2013, 17:52 Uhr",
         "Unbekannt",
         "Sport",
         "Fussball"
        ],
        [
         "36",
         "Torres",
         "«Ein gutes Ende»: Todkranker Eriksson erfüllt sich Traum",
         "24.03.2024, 10:50 Uhr",
         "Unbekannt",
         "Sport",
         "Fussball"
        ],
        [
         "37",
         "Torres",
         "Spanien revanchiert sich und beendet Italiens Super-Serie",
         "06.10.2021, 22:46 Uhr",
         "Unbekannt",
         "Sport",
         "Fussball"
        ],
        [
         "38",
         "Torres",
         "Basel plant den nächsten Favoritensturz",
         "24.04.2013, 17:15 Uhr",
         "Unbekannt",
         "Sport",
         "Fussball"
        ],
        [
         "39",
         "Torres",
         "Corinthians gewinnen die Klub-WM",
         "16.12.2012, 13:01 Uhr",
         "Unbekannt",
         "Sport",
         "Fussball"
        ],
        [
         "40",
         "Torres",
         "Spanien mit erdauertem Sieg über Schottland",
         "12.10.2023, 22:46 Uhr",
         "Unbekannt",
         "Sport",
         "Fussball"
        ],
        [
         "41",
         "Torres",
         "Spanien Gruppensieger - Nigeria ausgeschieden",
         "23.06.2013, 20:56 Uhr",
         "Unbekannt",
         "Sport",
         "Fussball"
        ],
        [
         "42",
         "Torres",
         "Pedri erhält bei Barça neuen Vertrag und Mega-Ausstiegsklausel",
         "14.10.2021, 16:44 Uhr",
         "Unbekannt",
         "Sport",
         "Fussball"
        ],
        [
         "43",
         "Torres",
         "Chelseas EL-Triumph in letzter Sekunde",
         "15.05.2013, 20:40 Uhr",
         "Unbekannt",
         "Sport",
         "Fussball"
        ],
        [
         "44",
         "Torres",
         "Deng jubelt im BMX Freestyle – Premiere für Guatemala",
         "31.07.2024, 14:25 Uhr",
         "Unbekannt",
         "Sport",
         "Paris 2024"
        ],
        [
         "45",
         "Torres",
         "Morata von der Hölle in den Himmel und wieder zurück",
         "07.07.2021, 1:07 Uhr",
         "Unbekannt",
         "Sport",
         "Fussball"
        ],
        [
         "46",
         "Torres",
         "15 Monate nach Infarkt: Torhüter-Idol Casillas beendet Karriere",
         "04.08.2020, 6:56 Uhr",
         "Unbekannt",
         "Sport",
         "Fussball"
        ],
        [
         "47",
         "Torres",
         "Der FC Basel verliert in der 94. Minute",
         "25.04.2013, 21:00 Uhr",
         "Unbekannt",
         "Sport",
         "Fussball"
        ],
        [
         "48",
         "Torres",
         "Mindful Drinking: die neue Nüchternheit",
         "23.10.2022, 7:28 Uhr",
         "Corinna Daus",
         "Wissen",
         "Gesundheit"
        ],
        [
         "49",
         "Torres",
         "Guatemalas Machtelite untergräbt die Demokratie",
         "14.07.2023, 11:54 Uhr",
         "Unbekannt",
         "News",
         "International"
        ]
       ],
       "shape": {
        "columns": 6,
        "rows": 11760
       }
      },
      "text/html": [
       "<div>\n",
       "<style scoped>\n",
       "    .dataframe tbody tr th:only-of-type {\n",
       "        vertical-align: middle;\n",
       "    }\n",
       "\n",
       "    .dataframe tbody tr th {\n",
       "        vertical-align: top;\n",
       "    }\n",
       "\n",
       "    .dataframe thead th {\n",
       "        text-align: right;\n",
       "    }\n",
       "</style>\n",
       "<table border=\"1\" class=\"dataframe\">\n",
       "  <thead>\n",
       "    <tr style=\"text-align: right;\">\n",
       "      <th></th>\n",
       "      <th>Suchbegriff</th>\n",
       "      <th>Titel</th>\n",
       "      <th>Datum</th>\n",
       "      <th>Autor</th>\n",
       "      <th>Kategorie</th>\n",
       "      <th>Unterkategorie</th>\n",
       "    </tr>\n",
       "  </thead>\n",
       "  <tbody>\n",
       "    <tr>\n",
       "      <th>0</th>\n",
       "      <td>Torres</td>\n",
       "      <td>Wechsel von Torres zu Barcelona fix – Mbabu fe...</td>\n",
       "      <td>28.12.2021, 14:05 Uhr</td>\n",
       "      <td>Unbekannt</td>\n",
       "      <td>Sport</td>\n",
       "      <td>Fussball</td>\n",
       "    </tr>\n",
       "    <tr>\n",
       "      <th>1</th>\n",
       "      <td>Torres</td>\n",
       "      <td>Aegerter verpasst das Wunder – Gesamtsieg an T...</td>\n",
       "      <td>11.10.2020, 14:28 Uhr</td>\n",
       "      <td>Unbekannt</td>\n",
       "      <td>Sport</td>\n",
       "      <td>Motorsport</td>\n",
       "    </tr>\n",
       "    <tr>\n",
       "      <th>2</th>\n",
       "      <td>Torres</td>\n",
       "      <td>Honorar von Dufry-Präsident Torres Carretero g...</td>\n",
       "      <td>30.07.2019, 18:55 Uhr</td>\n",
       "      <td>Lorenzo Bonati</td>\n",
       "      <td>News</td>\n",
       "      <td>Wirtschaft</td>\n",
       "    </tr>\n",
       "    <tr>\n",
       "      <th>3</th>\n",
       "      <td>Torres</td>\n",
       "      <td>Torres kündigt Rücktritt an</td>\n",
       "      <td>20.06.2019, 19:00 Uhr</td>\n",
       "      <td>Unbekannt</td>\n",
       "      <td>Sport</td>\n",
       "      <td>Fussball</td>\n",
       "    </tr>\n",
       "    <tr>\n",
       "      <th>4</th>\n",
       "      <td>Torres</td>\n",
       "      <td>Iniesta und Torres sagen «Adios»</td>\n",
       "      <td>20.05.2018, 22:03 Uhr</td>\n",
       "      <td>Unbekannt</td>\n",
       "      <td>Sport</td>\n",
       "      <td>Fussball</td>\n",
       "    </tr>\n",
       "    <tr>\n",
       "      <th>...</th>\n",
       "      <td>...</td>\n",
       "      <td>...</td>\n",
       "      <td>...</td>\n",
       "      <td>...</td>\n",
       "      <td>...</td>\n",
       "      <td>...</td>\n",
       "    </tr>\n",
       "    <tr>\n",
       "      <th>11755</th>\n",
       "      <td>Luder</td>\n",
       "      <td>So will die Stadt Luzern ihr Parkplatzproblem ...</td>\n",
       "      <td>19.05.2020, 10:00 Uhr</td>\n",
       "      <td>Unbekannt</td>\n",
       "      <td>News</td>\n",
       "      <td>News</td>\n",
       "    </tr>\n",
       "    <tr>\n",
       "      <th>11756</th>\n",
       "      <td>Luder</td>\n",
       "      <td>Luzerner Kantonsrat verlangt Transparenz über ...</td>\n",
       "      <td>18.05.2020, 16:18 Uhr</td>\n",
       "      <td>Unbekannt</td>\n",
       "      <td>News</td>\n",
       "      <td>News</td>\n",
       "    </tr>\n",
       "    <tr>\n",
       "      <th>11757</th>\n",
       "      <td>Luder</td>\n",
       "      <td>Luzerner Kantonsparlament verschiebt Corona-De...</td>\n",
       "      <td>17.05.2020, 15:08 Uhr</td>\n",
       "      <td>Unbekannt</td>\n",
       "      <td>News</td>\n",
       "      <td>News</td>\n",
       "    </tr>\n",
       "    <tr>\n",
       "      <th>11758</th>\n",
       "      <td>Luder</td>\n",
       "      <td>Luzern trainiert bereits am 18. Mai wieder</td>\n",
       "      <td>16.05.2020, 11:30 Uhr</td>\n",
       "      <td>Unbekannt</td>\n",
       "      <td>Sport</td>\n",
       "      <td>Fussball</td>\n",
       "    </tr>\n",
       "    <tr>\n",
       "      <th>11759</th>\n",
       "      <td>Luder</td>\n",
       "      <td>Der Luzerner Klimanotstand auf dem Prüfstand</td>\n",
       "      <td>14.05.2020, 15:41 Uhr</td>\n",
       "      <td>Unbekannt</td>\n",
       "      <td>News</td>\n",
       "      <td>News</td>\n",
       "    </tr>\n",
       "  </tbody>\n",
       "</table>\n",
       "<p>11760 rows × 6 columns</p>\n",
       "</div>"
      ],
      "text/plain": [
       "      Suchbegriff                                              Titel  \\\n",
       "0          Torres  Wechsel von Torres zu Barcelona fix – Mbabu fe...   \n",
       "1          Torres  Aegerter verpasst das Wunder – Gesamtsieg an T...   \n",
       "2          Torres  Honorar von Dufry-Präsident Torres Carretero g...   \n",
       "3          Torres                        Torres kündigt Rücktritt an   \n",
       "4          Torres                   Iniesta und Torres sagen «Adios»   \n",
       "...           ...                                                ...   \n",
       "11755       Luder  So will die Stadt Luzern ihr Parkplatzproblem ...   \n",
       "11756       Luder  Luzerner Kantonsrat verlangt Transparenz über ...   \n",
       "11757       Luder  Luzerner Kantonsparlament verschiebt Corona-De...   \n",
       "11758       Luder         Luzern trainiert bereits am 18. Mai wieder   \n",
       "11759       Luder       Der Luzerner Klimanotstand auf dem Prüfstand   \n",
       "\n",
       "                       Datum           Autor Kategorie Unterkategorie  \n",
       "0      28.12.2021, 14:05 Uhr       Unbekannt     Sport       Fussball  \n",
       "1      11.10.2020, 14:28 Uhr       Unbekannt     Sport     Motorsport  \n",
       "2      30.07.2019, 18:55 Uhr  Lorenzo Bonati      News     Wirtschaft  \n",
       "3      20.06.2019, 19:00 Uhr       Unbekannt     Sport       Fussball  \n",
       "4      20.05.2018, 22:03 Uhr       Unbekannt     Sport       Fussball  \n",
       "...                      ...             ...       ...            ...  \n",
       "11755  19.05.2020, 10:00 Uhr       Unbekannt      News           News  \n",
       "11756  18.05.2020, 16:18 Uhr       Unbekannt      News           News  \n",
       "11757  17.05.2020, 15:08 Uhr       Unbekannt      News           News  \n",
       "11758  16.05.2020, 11:30 Uhr       Unbekannt     Sport       Fussball  \n",
       "11759  14.05.2020, 15:41 Uhr       Unbekannt      News           News  \n",
       "\n",
       "[11760 rows x 6 columns]"
      ]
     },
     "execution_count": 15,
     "metadata": {},
     "output_type": "execute_result"
    }
   ],
   "source": [
    "df"
   ]
  }
 ],
 "metadata": {
  "kernelspec": {
   "display_name": ".venv",
   "language": "python",
   "name": "python3"
  },
  "language_info": {
   "codemirror_mode": {
    "name": "ipython",
    "version": 3
   },
   "file_extension": ".py",
   "mimetype": "text/x-python",
   "name": "python",
   "nbconvert_exporter": "python",
   "pygments_lexer": "ipython3",
   "version": "3.13.1"
  }
 },
 "nbformat": 4,
 "nbformat_minor": 2
}
