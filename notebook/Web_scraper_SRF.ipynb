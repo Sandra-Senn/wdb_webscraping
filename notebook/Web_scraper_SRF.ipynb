{
 "cells": [
  {
   "cell_type": "code",
   "execution_count": 2,
   "metadata": {},
   "outputs": [],
   "source": [
    "import sys\n",
    "import os\n",
    "sys.path.append(os.path.abspath(os.path.join(os.getcwd(), '..')))\n",
    "from src.scraper import main"
   ]
  },
  {
   "cell_type": "code",
   "execution_count": 4,
   "metadata": {},
   "outputs": [],
   "source": [
    "suchbegriffe = [\n",
    "        \"Rohrer\", \"Meier\", \"Senn\", \n",
    "        \"Schweizer\", \"Walser\", \"Luder\", \n",
    "        \"Torres\", \"Schatzmann\", \"Schmidt\",\n",
    "        \"Müller\", \"Schmid\", \"Winter\"\n",
    "    ]\n",
    "\n",
    "\n",
    "df = main(980, suchbegriffe)"
   ]
  },
  {
   "cell_type": "code",
   "execution_count": 3,
   "metadata": {},
   "outputs": [
    {
     "data": {
      "application/vnd.microsoft.datawrangler.viewer.v0+json": {
       "columns": [
        {
         "name": "index",
         "rawType": "int64",
         "type": "integer"
        },
        {
         "name": "Suchbegriff",
         "rawType": "object",
         "type": "string"
        },
        {
         "name": "Titel",
         "rawType": "object",
         "type": "string"
        },
        {
         "name": "Datum",
         "rawType": "object",
         "type": "string"
        },
        {
         "name": "Autor",
         "rawType": "object",
         "type": "string"
        },
        {
         "name": "Kategorie",
         "rawType": "object",
         "type": "string"
        },
        {
         "name": "Unterkategorie",
         "rawType": "object",
         "type": "string"
        }
       ],
       "conversionMethod": "pd.DataFrame",
       "ref": "374d7a31-74b3-4a1e-8f25-42c2599d7bec",
       "rows": [
        [
         "0",
         "Müller",
         "Nati kriegt Meister-Verstärkung – Alina Müller droht Saisonende",
         "28.04.2025, 8:41 Uhr",
         "Unbekannt",
         "Sport",
         "Eishockey"
        ],
        [
         "1",
         "Schatzmann",
         "«Es gibt mindestens vier verschiedene Wege zur Matur»",
         "18.03.2018, 17:55 Uhr",
         "Unbekannt",
         "News",
         "News"
        ],
        [
         "2",
         "Schmidt",
         "Bloss «Notnagel» oder eine echte Alternative?",
         "22.03.2025, 13:28 Uhr",
         "Unbekannt",
         "Sport",
         "Fussball"
        ],
        [
         "3",
         "Schmid",
         "Im Schlussaufstieg lässt Pogacar die Muskeln spielen – Schmid 10.",
         "23.04.2025, 16:45 Uhr",
         "Unbekannt",
         "Sport",
         "Mehr Sport"
        ],
        [
         "4",
         "Luder",
         "Ach Hitparade, du altes Luder",
         "02.01.2018, 7:49 Uhr",
         "Gregi Sigrist",
         "Radio SRF 3",
         "Musik"
        ],
        [
         "5",
         "Torres",
         "Wechsel von Torres zu Barcelona fix – Mbabu fehlt Wolfsburg",
         "28.12.2021, 14:05 Uhr",
         "Unbekannt",
         "Sport",
         "Fussball"
        ],
        [
         "6",
         "Walser",
         "Walser in Graubünden: Eine alte Kultur wird für Junge interessant",
         "07.05.2024, 13:24 Uhr",
         "Unbekannt",
         "News",
         "Schweiz"
        ],
        [
         "7",
         "Senn",
         "Senn: «Kenne weder den Unfallhergang noch den genauen Unfallort»",
         "28.09.2024, 15:01 Uhr",
         "Unbekannt",
         "Sport",
         "Mehr Sport"
        ],
        [
         "8",
         "Schweizer",
         "Deutsche und Schweizer Gemeinden wollen näher zusammenrücken",
         "30.04.2025, 16:15 Uhr",
         "Unbekannt",
         "News",
         "Schweiz"
        ],
        [
         "9",
         "Rohrer",
         "ZSC dank Rohrer und Lehtonen weiter makellos",
         "13.09.2024, 22:37 Uhr",
         "Unbekannt",
         "Sport",
         "Eishockey"
        ],
        [
         "10",
         "Meier",
         "Hischier, Meier und Siegenthaler fliegen mit New Jersey raus",
         "30.04.2025, 7:25 Uhr",
         "Unbekannt",
         "Sport",
         "Eishockey"
        ],
        [
         "11",
         "Winter",
         "Skisprung-Coach Velta nicht mehr bei Swiss-Ski",
         "24.04.2025, 14:37 Uhr",
         "Unbekannt",
         "Sport",
         "Mehr Sport"
        ]
       ],
       "shape": {
        "columns": 6,
        "rows": 12
       }
      },
      "text/html": [
       "<div>\n",
       "<style scoped>\n",
       "    .dataframe tbody tr th:only-of-type {\n",
       "        vertical-align: middle;\n",
       "    }\n",
       "\n",
       "    .dataframe tbody tr th {\n",
       "        vertical-align: top;\n",
       "    }\n",
       "\n",
       "    .dataframe thead th {\n",
       "        text-align: right;\n",
       "    }\n",
       "</style>\n",
       "<table border=\"1\" class=\"dataframe\">\n",
       "  <thead>\n",
       "    <tr style=\"text-align: right;\">\n",
       "      <th></th>\n",
       "      <th>Suchbegriff</th>\n",
       "      <th>Titel</th>\n",
       "      <th>Datum</th>\n",
       "      <th>Autor</th>\n",
       "      <th>Kategorie</th>\n",
       "      <th>Unterkategorie</th>\n",
       "    </tr>\n",
       "  </thead>\n",
       "  <tbody>\n",
       "    <tr>\n",
       "      <th>0</th>\n",
       "      <td>Müller</td>\n",
       "      <td>Nati kriegt Meister-Verstärkung – Alina Müller...</td>\n",
       "      <td>28.04.2025, 8:41 Uhr</td>\n",
       "      <td>Unbekannt</td>\n",
       "      <td>Sport</td>\n",
       "      <td>Eishockey</td>\n",
       "    </tr>\n",
       "    <tr>\n",
       "      <th>1</th>\n",
       "      <td>Schatzmann</td>\n",
       "      <td>«Es gibt mindestens vier verschiedene Wege zur...</td>\n",
       "      <td>18.03.2018, 17:55 Uhr</td>\n",
       "      <td>Unbekannt</td>\n",
       "      <td>News</td>\n",
       "      <td>News</td>\n",
       "    </tr>\n",
       "    <tr>\n",
       "      <th>2</th>\n",
       "      <td>Schmidt</td>\n",
       "      <td>Bloss «Notnagel» oder eine echte Alternative?</td>\n",
       "      <td>22.03.2025, 13:28 Uhr</td>\n",
       "      <td>Unbekannt</td>\n",
       "      <td>Sport</td>\n",
       "      <td>Fussball</td>\n",
       "    </tr>\n",
       "    <tr>\n",
       "      <th>3</th>\n",
       "      <td>Schmid</td>\n",
       "      <td>Im Schlussaufstieg lässt Pogacar die Muskeln s...</td>\n",
       "      <td>23.04.2025, 16:45 Uhr</td>\n",
       "      <td>Unbekannt</td>\n",
       "      <td>Sport</td>\n",
       "      <td>Mehr Sport</td>\n",
       "    </tr>\n",
       "    <tr>\n",
       "      <th>4</th>\n",
       "      <td>Luder</td>\n",
       "      <td>Ach Hitparade, du altes Luder</td>\n",
       "      <td>02.01.2018, 7:49 Uhr</td>\n",
       "      <td>Gregi Sigrist</td>\n",
       "      <td>Radio SRF 3</td>\n",
       "      <td>Musik</td>\n",
       "    </tr>\n",
       "    <tr>\n",
       "      <th>5</th>\n",
       "      <td>Torres</td>\n",
       "      <td>Wechsel von Torres zu Barcelona fix – Mbabu fe...</td>\n",
       "      <td>28.12.2021, 14:05 Uhr</td>\n",
       "      <td>Unbekannt</td>\n",
       "      <td>Sport</td>\n",
       "      <td>Fussball</td>\n",
       "    </tr>\n",
       "    <tr>\n",
       "      <th>6</th>\n",
       "      <td>Walser</td>\n",
       "      <td>Walser in Graubünden: Eine alte Kultur wird fü...</td>\n",
       "      <td>07.05.2024, 13:24 Uhr</td>\n",
       "      <td>Unbekannt</td>\n",
       "      <td>News</td>\n",
       "      <td>Schweiz</td>\n",
       "    </tr>\n",
       "    <tr>\n",
       "      <th>7</th>\n",
       "      <td>Senn</td>\n",
       "      <td>Senn: «Kenne weder den Unfallhergang noch den ...</td>\n",
       "      <td>28.09.2024, 15:01 Uhr</td>\n",
       "      <td>Unbekannt</td>\n",
       "      <td>Sport</td>\n",
       "      <td>Mehr Sport</td>\n",
       "    </tr>\n",
       "    <tr>\n",
       "      <th>8</th>\n",
       "      <td>Schweizer</td>\n",
       "      <td>Deutsche und Schweizer Gemeinden wollen näher ...</td>\n",
       "      <td>30.04.2025, 16:15 Uhr</td>\n",
       "      <td>Unbekannt</td>\n",
       "      <td>News</td>\n",
       "      <td>Schweiz</td>\n",
       "    </tr>\n",
       "    <tr>\n",
       "      <th>9</th>\n",
       "      <td>Rohrer</td>\n",
       "      <td>ZSC dank Rohrer und Lehtonen weiter makellos</td>\n",
       "      <td>13.09.2024, 22:37 Uhr</td>\n",
       "      <td>Unbekannt</td>\n",
       "      <td>Sport</td>\n",
       "      <td>Eishockey</td>\n",
       "    </tr>\n",
       "    <tr>\n",
       "      <th>10</th>\n",
       "      <td>Meier</td>\n",
       "      <td>Hischier, Meier und Siegenthaler fliegen mit N...</td>\n",
       "      <td>30.04.2025, 7:25 Uhr</td>\n",
       "      <td>Unbekannt</td>\n",
       "      <td>Sport</td>\n",
       "      <td>Eishockey</td>\n",
       "    </tr>\n",
       "    <tr>\n",
       "      <th>11</th>\n",
       "      <td>Winter</td>\n",
       "      <td>Skisprung-Coach Velta nicht mehr bei Swiss-Ski</td>\n",
       "      <td>24.04.2025, 14:37 Uhr</td>\n",
       "      <td>Unbekannt</td>\n",
       "      <td>Sport</td>\n",
       "      <td>Mehr Sport</td>\n",
       "    </tr>\n",
       "  </tbody>\n",
       "</table>\n",
       "</div>"
      ],
      "text/plain": [
       "   Suchbegriff                                              Titel  \\\n",
       "0       Müller  Nati kriegt Meister-Verstärkung – Alina Müller...   \n",
       "1   Schatzmann  «Es gibt mindestens vier verschiedene Wege zur...   \n",
       "2      Schmidt      Bloss «Notnagel» oder eine echte Alternative?   \n",
       "3       Schmid  Im Schlussaufstieg lässt Pogacar die Muskeln s...   \n",
       "4        Luder                      Ach Hitparade, du altes Luder   \n",
       "5       Torres  Wechsel von Torres zu Barcelona fix – Mbabu fe...   \n",
       "6       Walser  Walser in Graubünden: Eine alte Kultur wird fü...   \n",
       "7         Senn  Senn: «Kenne weder den Unfallhergang noch den ...   \n",
       "8    Schweizer  Deutsche und Schweizer Gemeinden wollen näher ...   \n",
       "9       Rohrer       ZSC dank Rohrer und Lehtonen weiter makellos   \n",
       "10       Meier  Hischier, Meier und Siegenthaler fliegen mit N...   \n",
       "11      Winter     Skisprung-Coach Velta nicht mehr bei Swiss-Ski   \n",
       "\n",
       "                    Datum          Autor    Kategorie Unterkategorie  \n",
       "0    28.04.2025, 8:41 Uhr      Unbekannt        Sport      Eishockey  \n",
       "1   18.03.2018, 17:55 Uhr      Unbekannt         News           News  \n",
       "2   22.03.2025, 13:28 Uhr      Unbekannt        Sport       Fussball  \n",
       "3   23.04.2025, 16:45 Uhr      Unbekannt        Sport     Mehr Sport  \n",
       "4    02.01.2018, 7:49 Uhr  Gregi Sigrist  Radio SRF 3          Musik  \n",
       "5   28.12.2021, 14:05 Uhr      Unbekannt        Sport       Fussball  \n",
       "6   07.05.2024, 13:24 Uhr      Unbekannt         News        Schweiz  \n",
       "7   28.09.2024, 15:01 Uhr      Unbekannt        Sport     Mehr Sport  \n",
       "8   30.04.2025, 16:15 Uhr      Unbekannt         News        Schweiz  \n",
       "9   13.09.2024, 22:37 Uhr      Unbekannt        Sport      Eishockey  \n",
       "10   30.04.2025, 7:25 Uhr      Unbekannt        Sport      Eishockey  \n",
       "11  24.04.2025, 14:37 Uhr      Unbekannt        Sport     Mehr Sport  "
      ]
     },
     "execution_count": 3,
     "metadata": {},
     "output_type": "execute_result"
    }
   ],
   "source": [
    "df"
   ]
  }
 ],
 "metadata": {
  "kernelspec": {
   "display_name": ".venv",
   "language": "python",
   "name": "python3"
  },
  "language_info": {
   "codemirror_mode": {
    "name": "ipython",
    "version": 3
   },
   "file_extension": ".py",
   "mimetype": "text/x-python",
   "name": "python",
   "nbconvert_exporter": "python",
   "pygments_lexer": "ipython3",
   "version": "3.13.1"
  }
 },
 "nbformat": 4,
 "nbformat_minor": 2
}
