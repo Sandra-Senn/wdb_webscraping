{
 "cells": [
  {
   "cell_type": "code",
   "execution_count": 1,
   "metadata": {},
   "outputs": [],
   "source": [
    "from news_scraper import scrape_srf_news\n"
   ]
  },
  {
   "cell_type": "code",
   "execution_count": 2,
   "metadata": {},
   "outputs": [
    {
     "name": "stdout",
     "output_type": "stream",
     "text": [
      "{'Titel': 'Weltretter Wurzeln', 'Datum': '25.03.2025, 9:16 Uhr', 'Autor': 'Unbekannt', 'Kategorie': 'SRF school', 'Unterkategorie': 'Physik, Chemie, Biologie'}\n",
      "{'Titel': 'Folgen des Klimawandels teils für hunderte Jahre unumkehrbar', 'Datum': '19.03.2025, 2:39 Uhr', 'Autor': 'Unbekannt', 'Kategorie': 'News', 'Unterkategorie': 'International'}\n",
      "{'Titel': 'Die Lawinen der Zukunft sind nass', 'Datum': '05.03.2025, 16:29 Uhr', 'Autor': 'Felicitas Erzinger', 'Kategorie': 'Wissen', 'Unterkategorie': 'Klimawandel'}\n",
      "{'Titel': 'Der Klimawandel erzeugt kaum Migration ins Ausland', 'Datum': '02.03.2025, 9:29 Uhr', 'Autor': 'Giannis Mavris / SWI swissinfo.ch', 'Kategorie': 'News', 'Unterkategorie': 'dialog'}\n",
      "{'Titel': 'Basler Firma entwickelt Heizung gegen den Klimawandel', 'Datum': '28.02.2025, 21:06 Uhr', 'Autor': 'Unbekannt', 'Kategorie': 'News', 'Unterkategorie': 'Schweiz'}\n",
      "{'Titel': 'Grünere Lösungen für die Schifffahrt: Was ist überhaupt möglich?', 'Datum': '20.02.2025, 16:00 Uhr', 'Autor': 'Christian Bachmann', 'Kategorie': 'Wissen', 'Unterkategorie': 'Klimawandel'}\n",
      "{'Titel': 'Gletscherschwund: Meeresspiegel steigt, Süsswasser wird knapper', 'Datum': '19.02.2025, 17:03 Uhr', 'Autor': 'Unbekannt', 'Kategorie': 'Wissen', 'Unterkategorie': 'Klimawandel'}\n",
      "{'Titel': 'Mit Satelliten und KI auf der Suche nach CO₂-Schleudern', 'Datum': '31.01.2025, 13:57 Uhr', 'Autor': 'Simon Bradley / SWI swissinfo', 'Kategorie': 'News', 'Unterkategorie': 'dialog'}\n",
      "{'Titel': 'Auftauende Böden bedrohen Millionen Menschen', 'Datum': '21.01.2025, 16:53 Uhr', 'Autor': 'Unbekannt', 'Kategorie': 'Wissen', 'Unterkategorie': 'Klimawandel'}\n",
      "{'Titel': 'Am Chuenisbärgli ist  künftig wohl noch mehr Flexibilität gefragt', 'Datum': '12.01.2025, 18:40 Uhr', 'Autor': 'Bénédict Saunier, Adelboden', 'Kategorie': 'Sport', 'Unterkategorie': 'Ski Alpin'}\n",
      "{'Titel': 'Klimawandel bedroht SAC-Hütten – Geld für Sanierungen wird knapp', 'Datum': '29.11.2024, 6:06 Uhr', 'Autor': 'Unbekannt', 'Kategorie': 'News', 'Unterkategorie': 'Schweiz'}\n",
      "{'Titel': 'Wenn der Boden in der Türkei plötzlich einbricht', 'Datum': '17.11.2024, 11:02 Uhr', 'Autor': 'Klaus Ammann', 'Kategorie': 'News', 'Unterkategorie': 'International'}\n",
      "{'Titel': 'Gesundheitswesen: Bundesrat soll mehr gegen den Klimawandel tun', 'Datum': '12.11.2024, 5:59 Uhr', 'Autor': 'Karoline Thürkauf', 'Kategorie': 'News', 'Unterkategorie': 'Schweiz'}\n",
      "{'Titel': 'Wintertourismus und Klimawandel: Allianz sucht neue Strategien', 'Datum': '11.11.2024, 17:00 Uhr', 'Autor': 'Pablo Hernandez', 'Kategorie': 'News', 'Unterkategorie': 'Wirtschaft'}\n",
      "{'Titel': 'Waldbäume sind zäh – wenn man ihnen Zeit lässt', 'Datum': '28.10.2024, 12:32 Uhr', 'Autor': 'Katharina Bochsler', 'Kategorie': 'Wissen', 'Unterkategorie': 'Klimawandel'}\n",
      "{'Titel': 'Neue Schmeissfliegen-Art erschwert Mordermittlungen', 'Datum': '18.10.2024, 6:45 Uhr', 'Autor': 'Unbekannt', 'Kategorie': 'News', 'Unterkategorie': 'Schweiz'}\n",
      "{'Titel': 'Ex-Hurrikane, Hitzewellen und Starkregen – das steht uns bevor', 'Datum': '16.10.2024, 8:16 Uhr', 'Autor': 'Unbekannt', 'Kategorie': 'News', 'Unterkategorie': 'News'}\n",
      "{'Titel': 'Zugvögel im Auge des Hurrikans «Milton» gefangen', 'Datum': '09.10.2024, 17:35 Uhr', 'Autor': 'Karin Rüfli', 'Kategorie': 'Radio SRF 1', 'Unterkategorie': 'Radio SRF 1'}\n",
      "{'Titel': 'Massive Dürre im Amazonas – Flüsse trocknen aus', 'Datum': '05.10.2024, 9:39 Uhr', 'Autor': 'Unbekannt', 'Kategorie': 'News', 'Unterkategorie': 'International'}\n",
      "{'Titel': 'Klimawandel killt Heimat – warum juckt uns das nicht?', 'Datum': '02.10.2024, 8:37 Uhr', 'Autor': 'Unbekannt', 'Kategorie': 'Kultur', 'Unterkategorie': 'Gesellschaft & Religion'}\n",
      "{'Titel': 'Folgen des Klimawandels: Wenn Haus und Hof weichen müssen', 'Datum': '30.09.2024, 5:47 Uhr', 'Autor': 'Matthias Rusch', 'Kategorie': 'News', 'Unterkategorie': 'Schweiz'}\n",
      "{'Titel': 'Klimawandel bedroht Maroni', 'Datum': '25.09.2024, 6:40 Uhr', 'Autor': 'Christian Gilardoni / RSI', 'Kategorie': 'News', 'Unterkategorie': 'dialog'}\n",
      "{'Titel': 'Wie sauber ist das Grundwasser in der Schweiz?', 'Datum': '12.09.2024, 10:55 Uhr', 'Autor': 'Unbekannt', 'Kategorie': 'News', 'Unterkategorie': 'Schweiz'}\n",
      "{'Titel': 'Schweizer Pionierforschung entschlüsselt, wie Permafrost auftaut', 'Datum': '04.09.2024, 10:28 Uhr', 'Autor': 'Luigi Jorio / SWI swissinfo.ch', 'Kategorie': 'News', 'Unterkategorie': 'dialog'}\n",
      "{'Titel': '«Der Klimawandel funktioniert wie ein Topf Spaghetti»', 'Datum': '06.08.2024, 14:29 Uhr', 'Autor': 'Unbekannt', 'Kategorie': 'Kids', 'Unterkategorie': 'Kids'}\n",
      "{'Titel': 'Sörenberg: Ein weiteres Skigebiet reduziert den Winterbetrieb', 'Datum': '16.07.2024, 15:28 Uhr', 'Autor': 'Unbekannt', 'Kategorie': 'News', 'Unterkategorie': 'Schweiz'}\n",
      "{'Titel': 'Kommt der Barolo in Zukunft vom Nordhang?', 'Datum': '15.07.2024, 7:57 Uhr', 'Autor': 'Franco Battel', 'Kategorie': 'News', 'Unterkategorie': 'International'}\n",
      "{'Titel': 'Rostende Flüsse in Alaska', 'Datum': '12.07.2024, 13:44 Uhr', 'Autor': 'Katrin Zöfel', 'Kategorie': 'Wissen', 'Unterkategorie': 'Klimawandel'}\n",
      "{'Titel': '«Der Klimawandel muss bereits heute berücksichtigt werden»', 'Datum': '07.06.2024, 11:51 Uhr', 'Autor': 'Unbekannt', 'Kategorie': 'News', 'Unterkategorie': 'Schweiz'}\n",
      "{'Titel': 'Schutz vor Sommerhitze – Pilotprojekt für Obdachlose in Basel', 'Datum': '31.05.2024, 8:59 Uhr', 'Autor': 'Unbekannt', 'Kategorie': 'News', 'Unterkategorie': 'Schweiz'}\n"
     ]
    }
   ],
   "source": [
    "# Beispiel-Aufruf\n",
    "suchbegriff = \"Klimawandel\"\n",
    "anzahl_artikel = 30\n",
    "resultate = scrape_srf_news(suchbegriff, anzahl_artikel)\n",
    "\n",
    "for artikel in resultate:\n",
    "    print(artikel)"
   ]
  }
 ],
 "metadata": {
  "kernelspec": {
   "display_name": "Python 3",
   "language": "python",
   "name": "python3"
  },
  "language_info": {
   "codemirror_mode": {
    "name": "ipython",
    "version": 3
   },
   "file_extension": ".py",
   "mimetype": "text/x-python",
   "name": "python",
   "nbconvert_exporter": "python",
   "pygments_lexer": "ipython3",
   "version": "3.12.6"
  }
 },
 "nbformat": 4,
 "nbformat_minor": 2
}
